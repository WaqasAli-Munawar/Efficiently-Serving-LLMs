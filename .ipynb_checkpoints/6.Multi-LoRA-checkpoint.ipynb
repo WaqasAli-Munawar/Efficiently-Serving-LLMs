{
 "cells": [
  {
   "cell_type": "markdown",
   "id": "6eddab55",
   "metadata": {},
   "source": [
    "We'll see how to efficiently serve dozens of fine-tuned models together in a single deployment without sacrificing latency."
   ]
  },
  {
   "cell_type": "markdown",
   "id": "1501fea0",
   "metadata": {},
   "source": [
    "### Import required packages"
   ]
  },
  {
   "cell_type": "code",
   "execution_count": 1,
   "id": "c7964cc5-0d8d-4ff1-9cdc-89032e45fa6e",
   "metadata": {
    "height": 149
   },
   "outputs": [],
   "source": [
    "import copy\n",
    "import matplotlib.pyplot as plt\n",
    "import numpy as np\n",
    "import random\n",
    "import time\n",
    "import torch\n",
    "import torch.nn.functional as F\n",
    "from tqdm import tqdm"
   ]
  },
  {
   "cell_type": "markdown",
   "id": "2b62bb64",
   "metadata": {},
   "source": [
    "### Let's create a new model\n",
    "\n",
    "We will start with creating an extension to the model from lesson 5. It has a custom helper function for computing the LoRA layer step with multiple LoRAs per batch."
   ]
  },
  {
   "cell_type": "code",
   "execution_count": 2,
   "id": "ecf12393-deae-4daa-a93a-0b7faa3ad3ff",
   "metadata": {
    "height": 523
   },
   "outputs": [],
   "source": [
    "class AbstractMultiLoraModel(torch.nn.Module):\n",
    "    def __init__(self):\n",
    "        super().__init__()\n",
    "        \n",
    "        # hidden_size = 10\n",
    "        # set this so low to ensure we are not \n",
    "        # compute-bound by the linear layer\n",
    "        # this is only an issue when running on CPU, \n",
    "        # for GPUs we can set this much\n",
    "        # higher and still avoid being compute bound\n",
    "        self.embedding = torch.nn.Embedding(10, 10)\n",
    "        self.linear = torch.nn.Linear(10, 10)\n",
    "        self.lm_head = torch.nn.Linear(10, 10)\n",
    "\n",
    "    def linear_lora(\n",
    "        self,\n",
    "        x: torch.Tensor,                 # (batch_size, seq_len, in_features)\n",
    "        loras_a: torch.Tensor,           # (num_loras, in_features, rank)\n",
    "        loras_b: torch.Tensor,           # (num_loras, rank, out_features)\n",
    "        lora_indices: torch.LongTensor,  # (batch_size,)\n",
    "    ) -> torch.Tensor:\n",
    "        # y[i] = x[i] @ loras_a[lora_idx] @ loras_b[lora_idx]\n",
    "        raise NotImplementedError()\n",
    "\n",
    "    def forward(self, input_ids, loras_a, loras_b, lora_indices):\n",
    "        x = self.embedding(input_ids)\n",
    "        x = self.linear_lora(x, loras_a, loras_b, lora_indices)\n",
    "        x = self.lm_head(x)\n",
    "        return x"
   ]
  },
  {
   "cell_type": "markdown",
   "id": "2ae0ebbf",
   "metadata": {},
   "source": [
    "### Using a loop\n",
    "\n",
    "Our first attempt to infer across multiple LoRAs will be straightforward: just loop over every row in the batch and apply the correct LoRA using an index mapping: `batch_index --> lora_index`."
   ]
  },
  {
   "cell_type": "code",
   "execution_count": 3,
   "id": "94861153-8bfe-4ae5-9b31-fa7f78e23793",
   "metadata": {
    "height": 268
   },
   "outputs": [],
   "source": [
    "class LoopMultiLoraModel(AbstractMultiLoraModel):\n",
    "    def linear_lora(\n",
    "        self,\n",
    "        x: torch.Tensor,                 # (batch_size, seq_len, in_features)\n",
    "        loras_a: torch.Tensor,           # (num_loras, in_features, lora_rank)\n",
    "        loras_b: torch.Tensor,           # (num_loras, lora_rank, out_features)\n",
    "        lora_indices: torch.LongTensor,  # (batch_size,)\n",
    "    ) -> torch.Tensor:\n",
    "        y = self.linear(x)\n",
    "        for batch_idx, lora_idx in enumerate(lora_indices.numpy()):\n",
    "            lora_a = loras_a[lora_idx]\n",
    "            lora_b = loras_b[lora_idx]\n",
    "            y[batch_idx] += x[batch_idx] @ lora_a @ lora_b\n",
    "        return y"
   ]
  },
  {
   "cell_type": "code",
   "execution_count": 4,
   "id": "a75c87fe-41e3-45ba-aeec-6e00b48e9d53",
   "metadata": {
    "height": 251
   },
   "outputs": [],
   "source": [
    "# toy example of a detokenizer. The vocabular only consists of 10 words (different colors)\n",
    "detokenizer = [\n",
    "    \"red\",\n",
    "    \"orange\",\n",
    "    \"yellow\",\n",
    "    \"green\",\n",
    "    \"blue\",\n",
    "    \"indigo\",\n",
    "    \"violet\",\n",
    "    \"magenta\",\n",
    "    \"marigold\",\n",
    "    \"chartreuse\",\n",
    "]"
   ]
  },
  {
   "cell_type": "code",
   "execution_count": 5,
   "id": "8e45b3e3-df57-4da1-af74-6658d677b9a1",
   "metadata": {
    "height": 64
   },
   "outputs": [],
   "source": [
    "# dummy inputs\n",
    "input_ids = torch.LongTensor([[0, 1, 2, 3, 4, 5, 6, 7]])"
   ]
  },
  {
   "cell_type": "code",
   "execution_count": 6,
   "id": "3b1f7a87-f359-40d9-b5f1-e516c855f6bb",
   "metadata": {
    "height": 30
   },
   "outputs": [
    {
     "data": {
      "text/plain": [
       "<torch._C.Generator at 0x7f3ae7529590>"
      ]
     },
     "execution_count": 6,
     "metadata": {},
     "output_type": "execute_result"
    }
   ],
   "source": [
    "torch.manual_seed(42)"
   ]
  },
  {
   "cell_type": "code",
   "execution_count": 7,
   "id": "ecd7fc8d-be71-416b-888d-391714dd8eeb",
   "metadata": {
    "height": 149
   },
   "outputs": [],
   "source": [
    "def generate_token(model, **kwargs):\n",
    "    with torch.no_grad():\n",
    "        logits = model(**kwargs)\n",
    "    last_logits = logits[:, -1, :]\n",
    "    next_token_ids = last_logits.argmax(dim=1)\n",
    "\n",
    "    return [detokenizer[token_id] for token_id in next_token_ids]"
   ]
  },
  {
   "cell_type": "code",
   "execution_count": 8,
   "id": "a30f863f-36b9-4f2c-9a06-33a3c5ef565c",
   "metadata": {
    "height": 30
   },
   "outputs": [],
   "source": [
    "model = LoopMultiLoraModel()"
   ]
  },
  {
   "cell_type": "markdown",
   "id": "ecbbe14c",
   "metadata": {},
   "source": [
    "### Let's try it!\n",
    "\n",
    "We will try this over a few random LoRAs using a fixed tensor of input_ids. If our multi-LoRA generation process is working as designed, we should see a variety of different outputs generated as we randomly iterate over the LoRAs."
   ]
  },
  {
   "cell_type": "code",
   "execution_count": 9,
   "id": "818f27ef-9e6e-4aa5-bebd-06c2ffa7e711",
   "metadata": {
    "height": 387
   },
   "outputs": [
    {
     "name": "stdout",
     "output_type": "stream",
     "text": [
      "['orange']\n",
      "['red']\n",
      "['chartreuse']\n",
      "['yellow']\n",
      "['marigold']\n",
      "['yellow']\n",
      "['red']\n",
      "['orange']\n",
      "['violet']\n",
      "['red']\n"
     ]
    }
   ],
   "source": [
    "# constants\n",
    "bs = 1\n",
    "num_loras = 64\n",
    "h = 10\n",
    "r = 2\n",
    "\n",
    "# create contiguous blocks for 64 random LoRA weights\n",
    "loras_a = torch.randn(num_loras, h, r)\n",
    "loras_b = torch.randn(num_loras, r, h)\n",
    "\n",
    "for i in range(10):\n",
    "    # randomize the LoRAs each iteration\n",
    "    lora_indices = torch.randint(num_loras, (bs,), dtype=torch.long)\n",
    "    next_token = generate_token(\n",
    "        model,\n",
    "        input_ids=input_ids,\n",
    "        loras_a=loras_a,\n",
    "        loras_b=loras_b,\n",
    "        lora_indices=lora_indices,\n",
    "    )\n",
    "    print(next_token)"
   ]
  },
  {
   "cell_type": "markdown",
   "id": "1108cbf5",
   "metadata": {},
   "source": [
    "### Let's benchmark our multi-LoRA system!\n",
    "\n",
    "We will measure the average latency to generate a single token as the batch size increases and each element within the batch can have a different LoRA adapter (chosen randomly)."
   ]
  },
  {
   "cell_type": "code",
   "execution_count": 10,
   "id": "798ce936-fbad-4a49-8c86-2c2b4ec3747b",
   "metadata": {
    "height": 625
   },
   "outputs": [],
   "source": [
    "# constants\n",
    "seq_len = 8\n",
    "vocab_size = 10\n",
    "nsamples = 500\n",
    "max_batch_size = 64\n",
    "\n",
    "\n",
    "def benchmark(model):\n",
    "    avg_latencies = []\n",
    "    for bs in range(1, max_batch_size + 1):\n",
    "        latencies = []\n",
    "        for _ in range(nsamples):\n",
    "            # randomize the inputs and LoRA indices\n",
    "            input_ids = torch.randint(\n",
    "                vocab_size, (bs, seq_len), dtype=torch.long)\n",
    "            lora_indices = torch.randint(\n",
    "                num_loras, (bs,), dtype=torch.long)\n",
    "\n",
    "            # measure the end-to-end latency for \n",
    "            # generating a single token\n",
    "            t0 = time.time()\n",
    "            next_token = generate_token(\n",
    "                model,\n",
    "                input_ids=input_ids,\n",
    "                loras_a=loras_a,\n",
    "                loras_b=loras_b,\n",
    "                lora_indices=lora_indices,\n",
    "            )\n",
    "            latencies.append(time.time() - t0)\n",
    "\n",
    "        # average the latency across all the samples\n",
    "        latency_s = sum(latencies) / len(latencies)\n",
    "        avg_latencies.append(latency_s)\n",
    "        print(bs, latency_s)\n",
    "    return avg_latencies"
   ]
  },
  {
   "cell_type": "markdown",
   "id": "b1c960d4",
   "metadata": {},
   "source": [
    "**Note:** Your results might differ from those shown in the video, but they will still follow the same pattern."
   ]
  },
  {
   "cell_type": "code",
   "execution_count": 11,
   "id": "33d1f038-a3a9-4e4f-be18-36af0a31572a",
   "metadata": {
    "height": 30
   },
   "outputs": [
    {
     "name": "stdout",
     "output_type": "stream",
     "text": [
      "1 0.00012589550018310546\n",
      "2 0.00015164756774902345\n",
      "3 0.00017513084411621094\n",
      "4 0.00020428133010864257\n",
      "5 0.00022694730758666991\n",
      "6 0.00024759292602539063\n",
      "7 0.00027502679824829103\n",
      "8 0.0003029336929321289\n",
      "9 0.0003292527198791504\n",
      "10 0.0003493804931640625\n",
      "11 0.00037838459014892577\n",
      "12 0.000393272876739502\n",
      "13 0.0004326224327087402\n",
      "14 0.0004490633010864258\n",
      "15 0.00047339391708374023\n",
      "16 0.0005013861656188965\n",
      "17 0.0005278482437133789\n",
      "18 0.0005583305358886719\n",
      "19 0.0005469732284545898\n",
      "20 0.0005564785003662109\n",
      "21 0.0005902438163757324\n",
      "22 0.0006399250030517578\n",
      "23 0.0006622657775878907\n",
      "24 0.000670781135559082\n",
      "25 0.000733065128326416\n",
      "26 0.000754948616027832\n",
      "27 0.0007652845382690429\n",
      "28 0.0007929539680480957\n",
      "29 0.000824181079864502\n",
      "30 0.0008504700660705567\n",
      "31 0.0008629279136657715\n",
      "32 0.0008856139183044434\n",
      "33 0.000901491641998291\n",
      "34 0.000935053825378418\n",
      "35 0.0009544615745544434\n",
      "36 0.0009841208457946778\n",
      "37 0.0009871158599853516\n",
      "38 0.0010406837463378907\n",
      "39 0.0010687241554260254\n",
      "40 0.0010730009078979493\n",
      "41 0.0010501003265380858\n",
      "42 0.0010823755264282226\n",
      "43 0.0010824570655822755\n",
      "44 0.001105412483215332\n",
      "45 0.0011331286430358886\n",
      "46 0.0011003055572509765\n",
      "47 0.0011668219566345216\n",
      "48 0.0011508584022521973\n",
      "49 0.0012318882942199706\n",
      "50 0.0013110895156860352\n",
      "51 0.0013351168632507325\n",
      "52 0.0013740582466125488\n",
      "53 0.0014028415679931642\n",
      "54 0.0014087705612182617\n",
      "55 0.0014391417503356934\n",
      "56 0.0014637603759765625\n",
      "57 0.0014688901901245117\n",
      "58 0.0014857420921325685\n",
      "59 0.0016629881858825685\n",
      "60 0.0017581095695495606\n",
      "61 0.0017860078811645509\n",
      "62 0.001811509609222412\n",
      "63 0.0017367219924926758\n",
      "64 0.0016765599250793458\n"
     ]
    }
   ],
   "source": [
    "avg_latencies_loop = benchmark(model)"
   ]
  },
  {
   "cell_type": "markdown",
   "id": "3e88a95a",
   "metadata": {},
   "source": [
    "### Let's visualize it!\n",
    "\n",
    "**Note**: Your plot may vary slightly from the one shown in the video, yet it will exhibit a similar pattern."
   ]
  },
  {
   "cell_type": "code",
   "execution_count": 12,
   "id": "cf2c5122-37da-4a58-8e1a-ca211dc2551f",
   "metadata": {
    "height": 166
   },
   "outputs": [
    {
     "data": {
      "image/png": "[encoded data removed]",
      "text/plain": [
       "<Figure size 640x480 with 1 Axes>"
      ]
     },
     "metadata": {},
     "output_type": "display_data"
    }
   ],
   "source": [
    "x = list(range(1, max_batch_size + 1))\n",
    "plt.plot(x, avg_latencies_loop, label=\"loop\")\n",
    "\n",
    "plt.xlabel('Batch Size')\n",
    "plt.ylabel('Avg Latency (s)')\n",
    "plt.title('Multi-LoRA latency w.r.t. batch size')\n",
    "plt.legend()\n",
    "\n",
    "plt.show()"
   ]
  },
  {
   "cell_type": "markdown",
   "id": "4adf9077",
   "metadata": {},
   "source": [
    "### Let's vectorize the LoRA computation\n",
    "\n",
    "We will vectorize the LoRA computation by:\n",
    "\n",
    "1. Gather the LoRA weight for each batch into a single tensor using `torch.index_select`.\n",
    "2. Apply LoRA computation once for the entire input tensor."
   ]
  },
  {
   "cell_type": "code",
   "execution_count": 13,
   "id": "5801f273-741e-4466-bb63-b8913562723b",
   "metadata": {
    "height": 285
   },
   "outputs": [],
   "source": [
    "class GatheredMultiLoraModel(AbstractMultiLoraModel):\n",
    "    def linear_lora(\n",
    "        self,\n",
    "        x: torch.Tensor,                 # (batch_size, seq_len, in_features)\n",
    "        loras_a: torch.Tensor,           # (num_loras, in_features, lora_rank)\n",
    "        loras_b: torch.Tensor,           # (num_loras, lora_rank, out_features)\n",
    "        lora_indices: torch.LongTensor,  # (batch_size,)\n",
    "    ) -> torch.Tensor:\n",
    "        y = self.linear(x)\n",
    "        \n",
    "        # gather the LoRA weights into a new tensor and apply\n",
    "        lora_a = torch.index_select(loras_a, 0, lora_indices) # (batch_size, in_features, lora_rank)\n",
    "        lora_b = torch.index_select(loras_b, 0, lora_indices) # (batch_size, lora_rank, out_features)\n",
    "        y += x @ lora_a @ lora_b\n",
    "        return y"
   ]
  },
  {
   "cell_type": "code",
   "execution_count": 14,
   "id": "f8aafb6e-6981-4c83-9f9d-60d2e8958746",
   "metadata": {
    "height": 30
   },
   "outputs": [],
   "source": [
    "model = GatheredMultiLoraModel()"
   ]
  },
  {
   "cell_type": "markdown",
   "id": "2f6ae3db",
   "metadata": {},
   "source": [
    "**Note:** Your results might differ from those shown in the video, but they will still follow the same pattern."
   ]
  },
  {
   "cell_type": "code",
   "execution_count": null,
   "id": "c3843d58-4fd5-4141-a73a-69d1d01db89d",
   "metadata": {
    "height": 30
   },
   "outputs": [
    {
     "name": "stdout",
     "output_type": "stream",
     "text": [
      "1 0.00011900711059570312\n",
      "2 0.001808887004852295\n",
      "3 0.001973586082458496\n",
      "4 0.0019791007041931154\n",
      "5 0.001986763000488281\n",
      "6 0.0021777005195617676\n",
      "7 0.0019852733612060547\n",
      "8 0.0018100876808166504\n",
      "9 0.002186951160430908\n",
      "10 0.0020001535415649415\n",
      "11 0.0021799454689025877\n",
      "12 0.002186011791229248\n",
      "13 0.0021909451484680175\n",
      "14 0.002362879753112793\n",
      "15 0.002184732913970947\n",
      "16 0.0023786277770996094\n",
      "17 0.002376315116882324\n",
      "18 0.0023820953369140625\n",
      "19 0.001860260486602783\n",
      "20 0.0020407710075378417\n",
      "21 0.002378375053405762\n",
      "22 0.002395047664642334\n",
      "23 0.0025865874290466307\n",
      "24 0.0025758423805236816\n",
      "25 0.002411223888397217\n",
      "26 0.0023978686332702635\n",
      "27 0.002586759090423584\n",
      "28 0.0027772417068481444\n",
      "29 0.002400291919708252\n",
      "30 0.0027721080780029298\n"
     ]
    }
   ],
   "source": [
    "avg_latencies_gathered = benchmark(model)"
   ]
  },
  {
   "cell_type": "markdown",
   "id": "f7603255",
   "metadata": {},
   "source": [
    "### Let's visualize it!\n",
    "\n",
    "**Note**: Your plot may vary slightly from the one shown in the video, yet it will exhibit a similar pattern."
   ]
  },
  {
   "cell_type": "code",
   "execution_count": null,
   "id": "fee3360b-a610-4c48-91d1-09d33647f1aa",
   "metadata": {
    "height": 200
   },
   "outputs": [],
   "source": [
    "x = list(range(1, max_batch_size + 1))\n",
    "plt.plot(x, avg_latencies_loop, label=\"loop\")\n",
    "plt.plot(x, avg_latencies_gathered, label=\"gathered\")\n",
    "\n",
    "plt.xlabel('Batch Size')\n",
    "plt.ylabel('Avg Latency (s)')\n",
    "plt.title('Multi-LoRA latency w.r.t. batch size')\n",
    "plt.legend()\n",
    "\n",
    "plt.show()"
   ]
  }
 ],
 "metadata": {
  "kernelspec": {
   "display_name": "Python 3 (ipykernel)",
   "language": "python",
   "name": "python3"
  },
  "language_info": {
   "codemirror_mode": {
    "name": "ipython",
    "version": 3
   },
   "file_extension": ".py",
   "mimetype": "text/x-python",
   "name": "python",
   "nbconvert_exporter": "python",
   "pygments_lexer": "ipython3",
   "version": "3.11.5"
  }
 },
 "nbformat": 4,
 "nbformat_minor": 5
}
